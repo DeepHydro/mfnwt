{
 "cells": [
  {
   "cell_type": "markdown",
   "metadata": {},
   "source": [
    "# Test problem for Ag Package (Agwater1_gwonly)\n",
    "\n",
    "#### Based on SFR2 test problem 2, model is run outside of notebook"
   ]
  },
  {
   "cell_type": "code",
   "execution_count": 1,
   "metadata": {},
   "outputs": [],
   "source": [
    "%matplotlib inline\n",
    "import sys, os\n",
    "import matplotlib.pyplot as plt\n",
    "import arcpy\n",
    "import geopandas\n",
    "import matplotlib.image as mpimg\n",
    "import ConfigParser\n",
    "import numpy as np\n",
    "import pandas as pd\n",
    "import datetime\n",
    "from Figures import ReportFigures\n",
    "from matplotlib import cm\n",
    "from arcpy import env\n",
    "from datetime import date\n",
    "from datetime import timedelta\n",
    "from dateutil.parser import parse\n",
    "import matplotlib.dates as mdates\n",
    "from dateutil.relativedelta import relativedelta"
   ]
  },
  {
   "cell_type": "code",
   "execution_count": 2,
   "metadata": {},
   "outputs": [],
   "source": [
    "rf = ReportFigures()\n",
    "rf.set_style()\n",
    "sys.path.append('..')\n",
    "python_exe = sys.executable"
   ]
  },
  {
   "cell_type": "markdown",
   "metadata": {},
   "source": [
    "### Get size of gage files and set start and end dates for plotting"
   ]
  },
  {
   "cell_type": "code",
   "execution_count": 3,
   "metadata": {},
   "outputs": [],
   "source": [
    "# calculate number of lines in file can be any gage file\n",
    "num_lines = 0\n",
    "with open(r\"..\\Agwater1GW_high.all\", 'r') as f:\n",
    "    for line in f:\n",
    "        num_lines += 1\n",
    "\n",
    "# set dates for daily values; this date is simulation starte date\n",
    "dates = []\n",
    "for i in range(num_lines-1): \n",
    "    dates.append(datetime.date(2014, 10, 1)+datetime.timedelta(days=i))\n",
    "    \n",
    "# set start and end dates for plot \n",
    "startdate, enddate, plotdates = [], [], []\n",
    "startdate.append(datetime.date(2016, 10, 1))\n",
    "enddate.append(datetime.date(2018, 9, 30))"
   ]
  },
  {
   "cell_type": "markdown",
   "metadata": {},
   "source": [
    "### Read and process the Ag well time series output file for high field K"
   ]
  },
  {
   "cell_type": "code",
   "execution_count": 4,
   "metadata": {},
   "outputs": [
    {
     "name": "stdout",
     "output_type": "stream",
     "text": [
      "69.3916840132\n",
      "65.5455528824\n"
     ]
    }
   ],
   "source": [
    "\n",
    "#open irrigation well file again to read lines\n",
    "fname = open(r\"..\\Agwater1GW_high.all\",\"r\")\n",
    "#set firstline for headers\n",
    "firstline=fname.readline()\n",
    "# store all data from file in lines\n",
    "lines=fname.readlines()\n",
    "x, y1_high, y2_high = [], [], []\n",
    "# set variabes for plotting between startdate and enddate\n",
    "i=-1\n",
    "for line in lines:\n",
    "    i=i+1\n",
    "    if dates[i]>enddate[0]:\n",
    "        break\n",
    "    if dates[i]>=startdate[0]:\n",
    "        plotdates.append(dates[i])\n",
    "        y1_high.append(line.split()[4])\n",
    "        y2_high.append(line.split()[5])\n",
    "# close irrigation well file\n",
    "fname.close()\n",
    "\n",
    "# Cumulate values and convert from cfs to acre-feet\n",
    "x=np.array(y1_high,dtype=float)\n",
    "x=x*86400*2.29569e-5/3.4435E+03\n",
    "y1_high=x\n",
    "y1_high_cum=x.cumsum()\n",
    "x=np.array(y2_high,dtype=float)\n",
    "x=x*86400*2.29569e-5/3.4435E+03\n",
    "y2_high=x\n",
    "y2_high_cum=x.cumsum()\n",
    "\n",
    "#print out average annual NIWR\n",
    "print(y1_high_cum[len(y1_high_cum)-1]/2)\n",
    "print(y2_high_cum[len(y2_high_cum)-1]/2)\n"
   ]
  },
  {
   "cell_type": "code",
   "execution_count": 5,
   "metadata": {},
   "outputs": [],
   "source": [
    "# set headers for plot legend\n",
    "\n",
    "header=[]\n",
    "header.append(firstline.split()[0])\n",
    "header.append(firstline.split()[1])\n",
    "header.append(firstline.split()[2])\n",
    "header.append(firstline.split()[3])\n",
    "header.append(firstline.split()[4])\n",
    "header.append(firstline.split()[5])\n",
    "header.append(firstline.split()[6])"
   ]
  },
  {
   "cell_type": "markdown",
   "metadata": {},
   "source": [
    "### Read and process the Ag well time series output file for low field K"
   ]
  },
  {
   "cell_type": "code",
   "execution_count": 6,
   "metadata": {},
   "outputs": [
    {
     "name": "stdout",
     "output_type": "stream",
     "text": [
      "34.738882065\n",
      "34.738882065\n"
     ]
    }
   ],
   "source": [
    "#open irrigation segment file again to read lines\n",
    "fname = open(r\"..\\Agwater1GW_low.all\",\"r\")\n",
    "#set firstline for headers\n",
    "firstline=fname.readline()\n",
    "# store all data from file in lines\n",
    "lines=fname.readlines()\n",
    "y1_low, y2_low = [], []\n",
    "# set variabes for plotting between startdate and enddate\n",
    "i=-1\n",
    "for line in lines:\n",
    "    i=i+1\n",
    "    if dates[i]>enddate[0]:\n",
    "        break\n",
    "    if dates[i]>=startdate[0]:\n",
    " #       plotdates.append(dates[i])\n",
    " #       x.append(line.split()[0])\n",
    "        y1_low.append(line.split()[4])\n",
    "        y2_low.append(line.split()[5])\n",
    "# close irrigation well file\n",
    "fname.close()\n",
    "\n",
    "# Cumulate values and convert from cfs to acre-feet  \n",
    "x=np.array(y1_low,dtype=float)\n",
    "x=x*86400*2.29569e-5/3.4435E+03\n",
    "y1_low=x\n",
    "y1_low_cum=x.cumsum()\n",
    "x=np.array(y2_low,dtype=float)\n",
    "x=x*86400*2.29569e-5/3.4435E+03\n",
    "y2_low=x\n",
    "y2_low_cum=x.cumsum()\n",
    "\n",
    "#print out average annual NIWR\n",
    "print(y1_low_cum[len(y1_low_cum)-1]/2)\n",
    "print(y2_low_cum[len(y2_low_cum)-1]/2)"
   ]
  },
  {
   "cell_type": "markdown",
   "metadata": {},
   "source": [
    "### Read and process the Ag well time series output file for high field K"
   ]
  },
  {
   "cell_type": "markdown",
   "metadata": {},
   "source": [
    "### Read and process the Ag well ET file for low field K"
   ]
  },
  {
   "cell_type": "code",
   "execution_count": 7,
   "metadata": {},
   "outputs": [
    {
     "name": "stdout",
     "output_type": "stream",
     "text": [
      "0.544325532664\n",
      "0.544240299269\n"
     ]
    }
   ],
   "source": [
    "#open SW ET file to read lines\n",
    "fname = open(r\"..\\Agwater1GW_ET_low.all\",\"r\")\n",
    "#set firstline for headers\n",
    "firstlineet=fname.readline()\n",
    "# store all data from file in lines\n",
    "lineset=fname.readlines()\n",
    "y1et_low, y2et_low = [], []\n",
    "# set variabes for plotting between startdate and enddate\n",
    "i=-1\n",
    "for line in lineset:\n",
    "    i=i+1\n",
    "    if dates[i]>enddate[0]:\n",
    "        break\n",
    "    if dates[i]>=startdate[0]:\n",
    "        #plotdates.append(dates[i])\n",
    "#        xet.append(line.split()[0])\n",
    "        y1et_low.append(line.split()[4])\n",
    "        y2et_low.append(line.split()[5])\n",
    "\n",
    "# Cumulate values\n",
    "x=np.array(y1et_low,dtype=float)\n",
    "x=x*86400*2.29569e-5/3.4435E+03\n",
    "y1et_low=x\n",
    "y1et_low_cum=x.cumsum()\n",
    "x=np.array(y2et_low,dtype=float)\n",
    "x=x*86400*2.29569e-5/3.4435E+03\n",
    "y2et_low=x\n",
    "y2et_low_cum=x.cumsum()\n",
    "\n",
    "# close GW ET file\n",
    "fname.close()\n",
    "\n",
    "#print out average annual NIWR\n",
    "print(y1et_low_cum[len(y1et_low_cum)-1]/2)\n",
    "print(y2et_low_cum[len(y2et_low_cum)-1]/2)"
   ]
  },
  {
   "cell_type": "markdown",
   "metadata": {},
   "source": [
    "### Read and process the Ag well ET file for high field K"
   ]
  },
  {
   "cell_type": "code",
   "execution_count": 8,
   "metadata": {},
   "outputs": [
    {
     "name": "stdout",
     "output_type": "stream",
     "text": [
      "0.544325532664\n",
      "0.544325541666\n"
     ]
    }
   ],
   "source": [
    "#open SW ET file to read lines\n",
    "fname = open(r\"..\\Agwater1GW_high_ET.all\",\"r\")\n",
    "#set firstline for headers\n",
    "firstlineet=fname.readline()\n",
    "# store all data from file in lines\n",
    "lineset=fname.readlines()\n",
    "y1et_high, y2et_high, y3et_high = [], [], []\n",
    "# set variabes for plotting between startdate and enddate\n",
    "i=-1\n",
    "for line in lineset:\n",
    "    i=i+1\n",
    "    if dates[i]>enddate[0]:\n",
    "        break\n",
    "    if dates[i]>=startdate[0]:\n",
    "        y1et_high.append(line.split()[4])\n",
    "        y2et_high.append(line.split()[5])\n",
    "\n",
    "# Cumulate values\n",
    "x=np.array(y1et_high,dtype=float)\n",
    "x=x*86400*2.29569e-5/3.4435E+03\n",
    "y1et_high=x\n",
    "y1et_high_cum=x.cumsum()\n",
    "x=np.array(y2et_high,dtype=float)\n",
    "x=x*86400*2.29569e-5/3.4435E+03\n",
    "y2et_high=x\n",
    "y2et_high_cum=x.cumsum()\n",
    "\n",
    "# close GW ET file\n",
    "fname.close()\n",
    "\n",
    "\n",
    "#print out average annual NIWR\n",
    "print(y1et_high_cum[len(y1et_high_cum)-1]/2)\n",
    "print(y2et_high_cum[len(y2et_high_cum)-1]/2)"
   ]
  },
  {
   "cell_type": "markdown",
   "metadata": {},
   "source": [
    "### Plot groundwater pumping for low and high field K"
   ]
  },
  {
   "cell_type": "code",
   "execution_count": 9,
   "metadata": {},
   "outputs": [
    {
     "name": "stderr",
     "output_type": "stream",
     "text": [
      "C:\\Users\\rniswon\\AppData\\Local\\Continuum\\miniconda2\\lib\\site-packages\\matplotlib\\font_manager.py:1297: UserWarning: findfont: Font family [u'Univers 67 Condensed'] not found. Falling back to DejaVu Sans\n",
      "  (prop.get_family(), self.defaultFamily[fontext]))\n",
      "C:\\Users\\rniswon\\AppData\\Local\\Continuum\\miniconda2\\lib\\site-packages\\matplotlib\\font_manager.py:1297: UserWarning: findfont: Font family [u'cursive'] not found. Falling back to DejaVu Sans\n",
      "  (prop.get_family(), self.defaultFamily[fontext]))\n",
      "C:\\Users\\rniswon\\AppData\\Local\\Continuum\\miniconda2\\lib\\site-packages\\matplotlib\\font_manager.py:1297: UserWarning: findfont: Font family [u'Univers 57 Condensed'] not found. Falling back to DejaVu Sans\n",
      "  (prop.get_family(), self.defaultFamily[fontext]))\n"
     ]
    },
    {
     "data": {
      "image/png": "[encoded data removed]",
      "text/plain": [
       "<matplotlib.figure.Figure at 0x32642af0>"
      ]
     },
     "metadata": {
      "needs_background": "light"
     },
     "output_type": "display_data"
    }
   ],
   "source": [
    "# blow up the fonts for this demo\n",
    "plt.rcParams['xtick.labelsize'] = 8\n",
    "plt.rcParams['ytick.labelsize'] = 8\n",
    "plt.rcParams['axes.titlesize'] = 14\n",
    "\n",
    "fig, axes = plt.subplots(2, 1, figsize=(10, 10))\n",
    "axes = axes.flat\n",
    "axes[0].plot(plotdates,y1_low,color='r', linewidth=2.5, label=\"Fine soil\")\n",
    "axes[0].plot(plotdates,y1_high,color='b', linewidth=2.5, label=\"Coarse soil\")\n",
    "\n",
    "axes[1].plot(plotdates,y1_low_cum,color='r', linewidth=2.5, label=\"Fine soil\")\n",
    "axes[1].plot(plotdates,y1_high_cum,color='b', linewidth=2.5, label=\"Coarse soil\")\n",
    "\n",
    "#start, end = axes[0].get_xlim()\n",
    "#start, end = axes[1].get_xlim()\n",
    "\n",
    "#axes[0].xaxis.set_ticks(np.arange(start, end, 90.0))\n",
    "#axes[1].xaxis.set_ticks(np.arange(start, end, 90.0))\n",
    "\n",
    "axes[0].set_ylabel('Acre-feet')\n",
    "axes[0].set_xlabel(header[0])\n",
    "\n",
    "plt.ylabel('Acre-feet')\n",
    "plt.xlabel(header[0])\n",
    "\n",
    "rf.title(axes[0], 'Groundwater irrigation requirements for fine and coarse soil', subplot_prefix='A')\n",
    "rf.title(axes[1], 'Cumulative groundwater irrigation requirements for fine and coarse soil', subplot_prefix='B')\n",
    "\n",
    "fmt = mdates.DateFormatter('%Y-%m-%d')\n",
    "\n",
    "# Set legend\n",
    "handles, labels = axes[0].get_legend_handles_labels()\n",
    "rf.legend(axes[0], handles, labels, bbox_to_anchor=(.9, 0.4))\n",
    "\n",
    "# Set legend\n",
    "handles, labels = axes[1].get_legend_handles_labels()\n",
    "rf.legend(axes[1], handles, labels, bbox_to_anchor=(.9, 0.4))\n",
    "\n",
    "plt.tight_layout()\n",
    "plt.savefig('GWonlyQ.pdf')"
   ]
  },
  {
   "cell_type": "markdown",
   "metadata": {},
   "source": [
    "### Plot well-watered and actual ET for Low and High inflows"
   ]
  },
  {
   "cell_type": "code",
   "execution_count": 10,
   "metadata": {},
   "outputs": [
    {
     "data": {
      "image/png": "[encoded data removed]",
      "text/plain": [
       "<matplotlib.figure.Figure at 0x32642770>"
      ]
     },
     "metadata": {
      "needs_background": "light"
     },
     "output_type": "display_data"
    }
   ],
   "source": [
    "# blow up the fonts for this demo\n",
    "plt.rcParams['xtick.labelsize'] = 8\n",
    "plt.rcParams['ytick.labelsize'] = 8\n",
    "plt.rcParams['axes.titlesize'] = 14\n",
    "\n",
    "fig, axes = plt.subplots(2, 1, figsize=(10, 10))\n",
    "axes = axes.flat\n",
    "axes[0].plot(plotdates,y1et_low,color='g', linewidth=3.5, label=\"Low field K\")\n",
    "#axes[0].plot(plotdates,y1et_high,color='b', linewidth=1.0, label=\"High field K\")\n",
    "\n",
    "axes[1].plot(plotdates,y1et_low_cum,color='g', linewidth=3.5, label=\"Low field K\")\n",
    "#axes[1].plot(plotdates,y1et_high_cum,color='b', linewidth=1.0, label=\"High field K\")\n",
    "\n",
    "#start, end = axes[0].get_xlim()\n",
    "#axes[0].xaxis.set_ticks(np.arange(start, end, 90.0))\n",
    "\n",
    "axes[0].set_ylabel('Flow, in cubic feet per second')\n",
    "axes[0].set_xlabel(header[0])\n",
    "\n",
    "plt.ylabel('Flow, in cubic feet per second')\n",
    "plt.xlabel(header[0])\n",
    "\n",
    "rf.title(axes[0], 'Crop consumption for low and high field K', subplot_prefix='A')\n",
    "\n",
    "#rf.axes_numbering(axes[1], format_x=True)\n",
    "fmt = mdates.DateFormatter('%Y-%m-%d')\n",
    "rf.title(axes[1], 'Cumulative crop consumption for low and high field K', subplot_prefix='B')\n",
    "\n",
    "# Set legend\n",
    "handles, labels = axes[0].get_legend_handles_labels()\n",
    "rf.legend(axes[0], handles, labels, bbox_to_anchor=(.9, 0.4))\n",
    "\n",
    "# Set legend\n",
    "handles, labels = axes[1].get_legend_handles_labels()\n",
    "rf.legend(axes[1], handles, labels, bbox_to_anchor=(.9, 0.4))\n",
    "\n",
    "\n",
    "plt.tight_layout()\n",
    "plt.savefig('GWonlyET.pdf')"
   ]
  },
  {
   "cell_type": "code",
   "execution_count": null,
   "metadata": {},
   "outputs": [],
   "source": []
  }
 ],
 "metadata": {
  "kernelspec": {
   "display_name": "Python 2",
   "language": "python",
   "name": "python2"
  },
  "language_info": {
   "codemirror_mode": {
    "name": "ipython",
    "version": 2
   },
   "file_extension": ".py",
   "mimetype": "text/x-python",
   "name": "python",
   "nbconvert_exporter": "python",
   "pygments_lexer": "ipython2",
   "version": "2.7.15"
  }
 },
 "nbformat": 4,
 "nbformat_minor": 2
}
